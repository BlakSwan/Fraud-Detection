{
 "cells": [
  {
   "cell_type": "code",
   "execution_count": 11,
   "metadata": {},
   "outputs": [
    {
     "name": "stdout",
     "output_type": "stream",
     "text": [
      "Logistic Regression AUC: 0.628275440482632\n",
      "Random Forest AUC: 0.5924512414695821\n",
      "Logistic Regression with Selected Features AUC: 0.5080305796146602\n",
      "Selected Features: ['month', 'flag_2', 'flag_5', 'flag_10', 'flag_18', 'flag_19']\n"
     ]
    },
    {
     "name": "stderr",
     "output_type": "stream",
     "text": [
      "/Users/chrisjackson/miniforge3/envs/mini_env/lib/python3.9/site-packages/sklearn/base.py:443: UserWarning: X has feature names, but SelectFromModel was fitted without feature names\n",
      "  warnings.warn(\n",
      "/Users/chrisjackson/miniforge3/envs/mini_env/lib/python3.9/site-packages/sklearn/base.py:443: UserWarning: X has feature names, but SelectFromModel was fitted without feature names\n",
      "  warnings.warn(\n"
     ]
    }
   ],
   "source": [
    "import pandas as pd\n",
    "import numpy as np\n",
    "from sklearn.linear_model import LogisticRegression\n",
    "from sklearn.ensemble import RandomForestClassifier\n",
    "from sklearn.metrics import roc_auc_score\n",
    "from sklearn.model_selection import train_test_split\n",
    "from sklearn.feature_selection import SelectFromModel\n",
    "\n",
    "# Load data\n",
    "df = pd.read_csv('data.csv')\n",
    "\n",
    "# Randomly sample 10% of the data\n",
    "df = df.sample(frac=0.1, random_state=42)\n",
    "\n",
    "# Separate target variable and features\n",
    "y = df['isFraud']\n",
    "X = df.drop(['isFraud'], axis=1)\n",
    "\n",
    "# Split data into train and test sets\n",
    "X_train, X_test, y_train, y_test = train_test_split(X, y, test_size=0.2, random_state=42)\n",
    "\n",
    "# Fit a logistic regression model\n",
    "lr = LogisticRegression(random_state=42, max_iter=1000)\n",
    "lr.fit(X_train, y_train)\n",
    "lr_preds = lr.predict_proba(X_test)[:,1]\n",
    "lr_score = roc_auc_score(y_test, lr_preds)\n",
    "\n",
    "# Fit a random forest model\n",
    "rf = RandomForestClassifier(n_estimators=100, random_state=42)\n",
    "rf.fit(X_train, y_train)\n",
    "rf_preds = rf.predict_proba(X_test)[:,1]\n",
    "rf_score = roc_auc_score(y_test, rf_preds)\n",
    "\n",
    "# Perform feature selection with the random forest model\n",
    "selector = SelectFromModel(rf, prefit=True, threshold='mean')\n",
    "X_train_selected = selector.transform(X_train)\n",
    "X_test_selected = selector.transform(X_test)\n",
    "\n",
    "# Fit logistic regression with selected features\n",
    "lr_selected = LogisticRegression(random_state=42, max_iter=1000)\n",
    "lr_selected.fit(X_train_selected, y_train)\n",
    "lr_preds_selected = lr_selected.predict_proba(X_test_selected)[:,1]\n",
    "lr_score_selected = roc_auc_score(y_test, lr_preds_selected)\n",
    "\n",
    "print(\"Logistic Regression AUC:\", lr_score)\n",
    "print(\"Random Forest AUC:\", rf_score)\n",
    "print(\"Logistic Regression with Selected Features AUC:\", lr_score_selected)\n",
    "print(\"Selected Features:\", X.columns[selector.get_support()].tolist())\n"
   ]
  },
  {
   "cell_type": "code",
   "execution_count": 12,
   "metadata": {},
   "outputs": [
    {
     "ename": "AttributeError",
     "evalue": "module 'matplotlib.pyplot' has no attribute 'get_xticklabels'",
     "output_type": "error",
     "traceback": [
      "\u001b[0;31m---------------------------------------------------------------------------\u001b[0m",
      "\u001b[0;31mAttributeError\u001b[0m                            Traceback (most recent call last)",
      "\u001b[1;32m/Users/chrisjackson/Neo/neo.ipynb Cell 2\u001b[0m in \u001b[0;36m<cell line: 14>\u001b[0;34m()\u001b[0m\n\u001b[1;32m     <a href='vscode-notebook-cell:/Users/chrisjackson/Neo/neo.ipynb#X25sZmlsZQ%3D%3D?line=12'>13</a>\u001b[0m plt\u001b[39m.\u001b[39mxlabel(\u001b[39m'\u001b[39m\u001b[39mCoefficient\u001b[39m\u001b[39m'\u001b[39m)\n\u001b[1;32m     <a href='vscode-notebook-cell:/Users/chrisjackson/Neo/neo.ipynb#X25sZmlsZQ%3D%3D?line=13'>14</a>\u001b[0m \u001b[39mfor\u001b[39;00m i \u001b[39min\u001b[39;00m top_6:\n\u001b[0;32m---> <a href='vscode-notebook-cell:/Users/chrisjackson/Neo/neo.ipynb#X25sZmlsZQ%3D%3D?line=14'>15</a>\u001b[0m     plt\u001b[39m.\u001b[39;49mget_xticklabels()[i]\u001b[39m.\u001b[39mset_color(\u001b[39m\"\u001b[39m\u001b[39mred\u001b[39m\u001b[39m\"\u001b[39m)\n\u001b[1;32m     <a href='vscode-notebook-cell:/Users/chrisjackson/Neo/neo.ipynb#X25sZmlsZQ%3D%3D?line=15'>16</a>\u001b[0m plt\u001b[39m.\u001b[39mshow()\n",
      "\u001b[0;31mAttributeError\u001b[0m: module 'matplotlib.pyplot' has no attribute 'get_xticklabels'"
     ]
    },
    {
     "data": {
      "image/png": "[encoded data removed]",
      "text/plain": [
       "<Figure size 432x288 with 1 Axes>"
      ]
     },
     "metadata": {
      "needs_background": "light"
     },
     "output_type": "display_data"
    }
   ],
   "source": [
    "import matplotlib.pyplot as plt\n",
    "\n",
    "# Get the feature names and coefficients from the logistic regression model\n",
    "feature_names = X_train.columns\n",
    "coefficients = lr.coef_[0]\n",
    "\n",
    "# Get top 6 features\n",
    "top_6 = coefficients[:6]\n",
    "\n",
    "# Create a horizontal bar chart to show the feature importance\n",
    "plt.barh(feature_names, coefficients)\n",
    "plt.title('Logistic Regression Feature Importance')\n",
    "plt.xlabel('Coefficient')\n",
    "for i in top_6:\n",
    "    plt.get_xticklabels()[i].set_color(\"red\")\n",
    "plt.show()\n"
   ]
  },
  {
   "cell_type": "code",
   "execution_count": 14,
   "metadata": {},
   "outputs": [
    {
     "ename": "AttributeError",
     "evalue": "module 'matplotlib.pyplot' has no attribute 'get_xticklabels'",
     "output_type": "error",
     "traceback": [
      "\u001b[0;31m---------------------------------------------------------------------------\u001b[0m",
      "\u001b[0;31mAttributeError\u001b[0m                            Traceback (most recent call last)",
      "\u001b[1;32m/Users/chrisjackson/Neo/neo.ipynb Cell 3\u001b[0m in \u001b[0;36m<cell line: 15>\u001b[0;34m()\u001b[0m\n\u001b[1;32m     <a href='vscode-notebook-cell:/Users/chrisjackson/Neo/neo.ipynb#X26sZmlsZQ%3D%3D?line=13'>14</a>\u001b[0m plt\u001b[39m.\u001b[39mxticks(\u001b[39mrange\u001b[39m(X_train\u001b[39m.\u001b[39mshape[\u001b[39m1\u001b[39m]), X_train\u001b[39m.\u001b[39mcolumns[indices], rotation\u001b[39m=\u001b[39m\u001b[39m90\u001b[39m)\n\u001b[1;32m     <a href='vscode-notebook-cell:/Users/chrisjackson/Neo/neo.ipynb#X26sZmlsZQ%3D%3D?line=14'>15</a>\u001b[0m \u001b[39mfor\u001b[39;00m i \u001b[39min\u001b[39;00m top_6:\n\u001b[0;32m---> <a href='vscode-notebook-cell:/Users/chrisjackson/Neo/neo.ipynb#X26sZmlsZQ%3D%3D?line=15'>16</a>\u001b[0m     plt\u001b[39m.\u001b[39;49mget_xticklabels()[i]\u001b[39m.\u001b[39mset_color(\u001b[39m\"\u001b[39m\u001b[39mred\u001b[39m\u001b[39m\"\u001b[39m)\n\u001b[1;32m     <a href='vscode-notebook-cell:/Users/chrisjackson/Neo/neo.ipynb#X26sZmlsZQ%3D%3D?line=16'>17</a>\u001b[0m plt\u001b[39m.\u001b[39mtight_layout()\n\u001b[1;32m     <a href='vscode-notebook-cell:/Users/chrisjackson/Neo/neo.ipynb#X26sZmlsZQ%3D%3D?line=17'>18</a>\u001b[0m plt\u001b[39m.\u001b[39mshow()\n",
      "\u001b[0;31mAttributeError\u001b[0m: module 'matplotlib.pyplot' has no attribute 'get_xticklabels'"
     ]
    },
    {
     "data": {
      "image/png": "[encoded data removed]",
      "text/plain": [
       "<Figure size 720x360 with 1 Axes>"
      ]
     },
     "metadata": {
      "needs_background": "light"
     },
     "output_type": "display_data"
    }
   ],
   "source": [
    "# Get feature importances from random forest model\n",
    "importances = rf.feature_importances_\n",
    "\n",
    "# Sort feature importances in descending order\n",
    "indices = np.argsort(importances)[::-1]\n",
    "\n",
    "# Get top 6 features\n",
    "top_6 = indices[:6]\n",
    "\n",
    "# Plot feature importances with top 6 highlighted\n",
    "plt.figure(figsize=(10,5))\n",
    "plt.title(\"Random Forest Feature Importances\")\n",
    "plt.bar(range(X_train.shape[1]), importances[indices], align=\"center\")\n",
    "plt.xticks(range(X_train.shape[1]), X_train.columns[indices], rotation=90)\n",
    "for i in top_6:\n",
    "    plt.get_xticklabels()[i].set_color(\"red\")\n",
    "plt.tight_layout()\n",
    "plt.show()\n",
    "\n",
    "\n"
   ]
  }
 ],
 "metadata": {
  "kernelspec": {
   "display_name": "Python 3.9.12 ('mini_env')",
   "language": "python",
   "name": "python3"
  },
  "language_info": {
   "codemirror_mode": {
    "name": "ipython",
    "version": 3
   },
   "file_extension": ".py",
   "mimetype": "text/x-python",
   "name": "python",
   "nbconvert_exporter": "python",
   "pygments_lexer": "ipython3",
   "version": "3.9.12"
  },
  "orig_nbformat": 4,
  "vscode": {
   "interpreter": {
    "hash": "f75587dacee627cd4f922b679bcd65529678f042ef87d889d13fa7dbfc6775aa"
   }
  }
 },
 "nbformat": 4,
 "nbformat_minor": 2
}
